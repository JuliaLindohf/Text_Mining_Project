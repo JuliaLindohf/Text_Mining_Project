{
  "nbformat": 4,
  "nbformat_minor": 0,
  "metadata": {
    "colab": {
      "name": "textminingproject_randomforest_word2vec.ipynb",
      "provenance": []
    },
    "kernelspec": {
      "name": "python3",
      "display_name": "Python 3"
    },
    "language_info": {
      "name": "python"
    }
  },
  "cells": [
    {
      "cell_type": "code",
      "execution_count": 1,
      "metadata": {
        "id": "DIzP6Jhg5zss"
      },
      "outputs": [],
      "source": [
        "import numpy as np\n",
        "import pandas as pd\n",
        "from sklearn.ensemble import RandomForestClassifier \n",
        "from sklearn.metrics import precision_score, recall_score\n",
        "from sklearn.model_selection import train_test_split \n",
        "from sklearn.pipeline import Pipeline \n",
        "from sklearn.feature_extraction.text import TfidfVectorizer\n",
        "from sklearn.feature_extraction.text import CountVectorizer\n",
        "from sklearn.model_selection import cross_val_score  \n",
        "from sklearn.metrics import roc_auc_score, f1_score\n",
        "from sklearn.metrics import accuracy_score,precision_score,recall_score\n",
        "from sklearn.metrics import classification_report  \n",
        "import matplotlib.pyplot as plt \n",
        "import seaborn as sns "
      ]
    },
    {
      "cell_type": "code",
      "source": [
        "# to fetch the cleaned text data \n",
        "\n",
        "textdata_df = pd.read_csv('/content/drive/MyDrive/text_mining_project/naturalscience/attempt2.csv') \n",
        "\n",
        "textdata_df = textdata_df.dropna(how=\"any\")\n",
        "\n",
        "textdata = textdata_df['cleaned_Comments'].tolist()\n",
        "\n",
        "vectorizer = CountVectorizer()\n",
        "X = vectorizer.fit_transform(textdata) \n",
        "\n",
        "Yresult = textdata_df['Topic'].tolist( ) \n",
        "Y = [] \n",
        "for y in Yresult: \n",
        "  if y == 'Biology': \n",
        "    Y.append(-1)\n",
        "  if y == 'Physics': \n",
        "    Y.append(0)\n",
        "  if y == 'Chemistry':\n",
        "    Y.append(1)"
      ],
      "metadata": {
        "id": "V3iTTsJd7iKW"
      },
      "execution_count": 2,
      "outputs": []
    },
    {
      "cell_type": "code",
      "source": [
        "# RandomForestClassifier, two parameters are important to look at: \n",
        "# max_depth and n_estimators \n",
        "\n",
        "# to split the data set into three groups, training, validation and test \n",
        "X_train, X_test, y_train, y_test = train_test_split(X, Y, test_size=0.2, random_state=0) \n",
        "\n",
        "X_train, X_valid, y_train, y_valid = train_test_split(X_train, y_train, test_size=0.2, random_state=0) \n",
        "\n",
        "print(len(y_train))\n",
        "print(len(y_valid))\n",
        "print(len(y_test))"
      ],
      "metadata": {
        "colab": {
          "base_uri": "https://localhost:8080/"
        },
        "id": "oEU0Huy0AL-6",
        "outputId": "dfa1317a-dbd4-49f0-958b-13bf5e218557"
      },
      "execution_count": 3,
      "outputs": [
        {
          "output_type": "stream",
          "name": "stdout",
          "text": [
            "6518\n",
            "1630\n",
            "2037\n"
          ]
        }
      ]
    },
    {
      "cell_type": "code",
      "source": [
        "# testet \n",
        "clf = RandomForestClassifier(n_estimators=300, criterion = 'entropy', random_state = 3, max_depth= 1000)\n",
        "clf.fit(X_train, y_train)"
      ],
      "metadata": {
        "colab": {
          "base_uri": "https://localhost:8080/"
        },
        "id": "2ZOq5TggCeUp",
        "outputId": "a2be51f0-8cc7-463b-aea5-80deaa13668e"
      },
      "execution_count": 57,
      "outputs": [
        {
          "output_type": "execute_result",
          "data": {
            "text/plain": [
              "RandomForestClassifier(criterion='entropy', max_depth=1000, n_estimators=300,\n",
              "                       random_state=3)"
            ]
          },
          "metadata": {},
          "execution_count": 57
        }
      ]
    },
    {
      "cell_type": "code",
      "source": [
        "class optimisation: \n",
        "  def __init__(self, X_train, X_valid, y_train, y_valid, X_test, y_test): \n",
        "    # to optimise n_estimators and max_depth \n",
        "    self.X_train = X_train\n",
        "    self.X_valid = X_valid\n",
        "    self.X_test = X_test\n",
        "\n",
        "    self.y_train = y_train\n",
        "    self.y_valid = y_valid\n",
        "    self.y_test = y_test \n",
        "\n",
        "  def optimise_max_depth(self): \n",
        "    # to generate a list of values \n",
        "    D = [x*x for x in range(1, 35)]\n",
        "    train_accuracy = [ ]\n",
        "    validation_accuracy = [ ] \n",
        "    for d in D:\n",
        "      clf = RandomForestClassifier(n_estimators=300, criterion = 'entropy', random_state = 3, max_depth= d)\n",
        "      # training model \n",
        "      clf.fit(self.X_train, self.y_train)\n",
        "\n",
        "      # training data \n",
        "      training_precit = clf.predict(self.X_train)\n",
        "\n",
        "      # to calcuate the classification accuracies of the training data \n",
        "      train_accuracy.append( accuracy_score(self.y_train, training_precit)) \n",
        "\n",
        "      # to calculate the classification accuracies of the validation data\n",
        "      validation_predict = clf.predict(self.X_valid) \n",
        "\n",
        "      validation_accuracy.append(accuracy_score(self.y_valid, validation_predict)) \n",
        "    plt.figure(figsize=(10, 10))\n",
        "    plt.plot(D, train_accuracy, color = 'maroon', linewidth=3, label='training data') \n",
        "    plt.plot(D, validation_accuracy, color = 'indigo', linewidth=3, label='validation data') \n",
        "    plt.legend(loc='upper left') \n",
        "    plt.xlabel('max depth')\n",
        "    plt.ylabel('Estimated accuracies') \n",
        "    plt.grid() \n",
        "\n",
        "  def optimise_estimator(self): \n",
        "    E = [1, 5, 10, 50, 100, 500, 1000]\n",
        "    train_accuracy = [ ]\n",
        "    validation_accuracy = [ ] \n",
        "    for e in E:\n",
        "      clf = RandomForestClassifier(n_estimators=e, criterion = 'entropy', random_state = 3, max_depth= 961)\n",
        "      # training model \n",
        "      clf.fit(self.X_train, self.y_train)\n",
        "\n",
        "      # training data \n",
        "      training_precit = clf.predict(self.X_train)\n",
        "\n",
        "      # to calcuate the classification accuracies of the training data \n",
        "      train_accuracy.append( accuracy_score(self.y_train, training_precit)) \n",
        "\n",
        "      # to calculate the classification accuracies of the validation data\n",
        "      validation_predict = clf.predict(self.X_valid) \n",
        "\n",
        "      validation_accuracy.append(accuracy_score(self.y_valid, validation_predict)) \n",
        "    plt.figure(figsize=(10, 10))\n",
        "    plt.plot(E, train_accuracy, color = 'maroon', linewidth=3, label='training data') \n",
        "    plt.plot(E, validation_accuracy, color = 'indigo', linewidth=3, label='validation data') \n",
        "    plt.legend(loc='upper left') \n",
        "    plt.xlabel('n_estimator')\n",
        "    plt.ylabel('Estimated accuracies') \n",
        "    plt.grid() \n",
        "\n",
        "  \n",
        "    \n"
      ],
      "metadata": {
        "id": "t76CBa-XP1KX"
      },
      "execution_count": 93,
      "outputs": []
    },
    {
      "cell_type": "code",
      "source": [
        "modeloptimal = optimisation(X_train, X_valid, y_train, y_valid, X_test, y_test)\n",
        "\n",
        "modeloptimal.optimise_max_depth()"
      ],
      "metadata": {
        "colab": {
          "base_uri": "https://localhost:8080/",
          "height": 606
        },
        "id": "8w1DpB8WPmOy",
        "outputId": "00799023-5ccc-49db-ebb6-e68e315b5fc5"
      },
      "execution_count": 94,
      "outputs": [
        {
          "output_type": "display_data",
          "data": {
            "text/plain": [
              "<Figure size 720x720 with 1 Axes>"
            ],
            "image/png": "[encoded data removed]"
          },
          "metadata": {
            "needs_background": "light"
          }
        }
      ]
    },
    {
      "cell_type": "code",
      "source": [
        "modeloptimal = optimisation(X_train, X_valid, y_train, y_valid, X_test, y_test)\n",
        "modeloptimal.optimise_estimator( )"
      ],
      "metadata": {
        "colab": {
          "base_uri": "https://localhost:8080/",
          "height": 606
        },
        "id": "p0qE8IIestMA",
        "outputId": "5d926f8d-6129-4c6f-cd1b-f9f8e7011e9a"
      },
      "execution_count": 95,
      "outputs": [
        {
          "output_type": "display_data",
          "data": {
            "text/plain": [
              "<Figure size 720x720 with 1 Axes>"
            ],
            "image/png": "[encoded data removed]"
          },
          "metadata": {
            "needs_background": "light"
          }
        }
      ]
    },
    {
      "cell_type": "code",
      "source": [
        "y_valid_pred = clf.predict(X_valid)\n",
        "\n",
        "print(accuracy_score(y_valid, y_valid_pred))"
      ],
      "metadata": {
        "colab": {
          "base_uri": "https://localhost:8080/"
        },
        "id": "Mav8IlJkG1hE",
        "outputId": "c744cd7e-db03-4969-b739-04e7276069f8"
      },
      "execution_count": 58,
      "outputs": [
        {
          "output_type": "stream",
          "name": "stdout",
          "text": [
            "0.6914110429447853\n"
          ]
        }
      ]
    },
    {
      "cell_type": "code",
      "source": [
        "class optimisation: \n",
        "  def __init__(self, inputdataframe): \n",
        "    self.inputdf = inputdataframe.dropna(how=\"any\") \n",
        "    self.textdata = inputdataframe['cleaned_Comments'].tolist()\n",
        "    self.topics = inputdataframe['Topic'].tolist( )  \n",
        "\n",
        "  def splitdata(self, e, d): \n",
        "    X = self.textdata\n",
        "    Y = [ ]\n",
        "    for y in self.topics: \n",
        "      if y == 'Biology': \n",
        "        Y.append(-1)\n",
        "      if y == 'Physics': \n",
        "        Y.append(0)\n",
        "      if y == 'Chemistry':\n",
        "        Y.append(1) \n",
        "\n",
        "    # to split data into three different chunks \n",
        "    # to split the data set into three groups, training, validation and test \n",
        "    X_train, X_test, y_train, y_test = train_test_split(X, Y, test_size=0.2, random_state=3) \n",
        "\n",
        "    X_train, X_valid, y_train, y_valid = train_test_split(X_train, y_train, test_size=0.2, random_state=2) \n",
        "\n",
        "    pipe = Pipeline([('word2vec', CountVectorizer() ), ('randomforest', RandomForestClassifier(n_estimators=e, criterion = 'entropy', random_state = 3, max_depth= d))]) \n",
        "\n",
        "    pipe.fit(X_train, y_train) \n",
        "    test_score = pipe.predict(X_test)  \n",
        "\n",
        "    test_accessment = classification_report(y_test, test_score)\n",
        "    print(test_accessment) \n",
        "\n",
        "    # to learn which  blog posts the training model failed to predict correctly \n",
        "    L = len(X_test)\n",
        "\n",
        "    # to create an empty list to store the wrongly predicted text data \n",
        "    wrongly_predicted_textdata = []\n",
        "    wrongly_predicted_dict = { }\n",
        "    for i in range(L): \n",
        "      temp1 = test_score[i]\n",
        "      temp2 = y_test[i]\n",
        "      if temp1 != temp2: \n",
        "        wrongly_predicted_textdata.append([X_test[i], temp1, temp2] ) \n",
        "        newlist = (temp1, temp2) \n",
        "        if newlist not in wrongly_predicted_dict:\n",
        "          wrongly_predicted_dict[newlist] = 1\n",
        "        else: \n",
        "          wrongly_predicted_dict[newlist] += 1\n",
        "\n",
        "    return wrongly_predicted_dict, test_accessment \n",
        "\n"
      ],
      "metadata": {
        "id": "wSwKpqJ3MKGK"
      },
      "execution_count": 4,
      "outputs": []
    },
    {
      "cell_type": "code",
      "source": [
        "model2 = optimisation(textdata_df)\n",
        "\n",
        "dict_wrongly, test_accessment = model2.splitdata(e=500, d = 820)"
      ],
      "metadata": {
        "colab": {
          "base_uri": "https://localhost:8080/"
        },
        "id": "1mLLJ2pguvQi",
        "outputId": "dd38f86e-0465-41b6-bda6-1135aad2d13b"
      },
      "execution_count": 6,
      "outputs": [
        {
          "output_type": "stream",
          "name": "stdout",
          "text": [
            "              precision    recall  f1-score   support\n",
            "\n",
            "          -1       0.73      0.72      0.72       864\n",
            "           0       0.71      0.60      0.65       500\n",
            "           1       0.62      0.71      0.66       673\n",
            "\n",
            "    accuracy                           0.69      2037\n",
            "   macro avg       0.69      0.68      0.68      2037\n",
            "weighted avg       0.69      0.69      0.69      2037\n",
            "\n"
          ]
        }
      ]
    },
    {
      "cell_type": "code",
      "source": [
        "dict_wrongly"
      ],
      "metadata": {
        "colab": {
          "base_uri": "https://localhost:8080/"
        },
        "id": "9uaGw7qCOj1R",
        "outputId": "53a57409-53c3-4176-d260-862b8ced8663"
      },
      "execution_count": 7,
      "outputs": [
        {
          "output_type": "execute_result",
          "data": {
            "text/plain": [
              "{(-1, 0): 92, (-1, 1): 136, (0, -1): 61, (0, 1): 59, (1, -1): 183, (1, 0): 109}"
            ]
          },
          "metadata": {},
          "execution_count": 7
        }
      ]
    }
  ]
}