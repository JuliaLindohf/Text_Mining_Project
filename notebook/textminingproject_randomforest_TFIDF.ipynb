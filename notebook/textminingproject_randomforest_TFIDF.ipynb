{
  "nbformat": 4,
  "nbformat_minor": 0,
  "metadata": {
    "colab": {
      "name": "textminingproject_randomforest_TFIDF.ipynb",
      "provenance": []
    },
    "kernelspec": {
      "name": "python3",
      "display_name": "Python 3"
    },
    "language_info": {
      "name": "python"
    }
  },
  "cells": [
    {
      "cell_type": "code",
      "execution_count": 70,
      "metadata": {
        "id": "DIzP6Jhg5zss"
      },
      "outputs": [],
      "source": [
        "import numpy as np\n",
        "import pandas as pd\n",
        "from sklearn.ensemble import RandomForestClassifier \n",
        "from sklearn.metrics import precision_score, recall_score\n",
        "from sklearn.model_selection import train_test_split \n",
        "from sklearn.pipeline import Pipeline \n",
        "from sklearn.feature_extraction.text import TfidfVectorizer\n",
        "from sklearn.model_selection import cross_val_score  \n",
        "from sklearn.metrics import roc_auc_score, f1_score\n",
        "from sklearn.metrics import accuracy_score,precision_score,recall_score\n",
        "from sklearn.metrics import classification_report  \n",
        "import matplotlib.pyplot as plt \n",
        "import seaborn as sns "
      ]
    },
    {
      "cell_type": "code",
      "source": [
        "# to fetch the cleaned text data \n",
        "\n",
        "textdata_df = pd.read_csv('/content/drive/MyDrive/text_mining_project/naturalscience/attempt2.csv') \n",
        "\n",
        "textdata_df = textdata_df.dropna(how=\"any\")\n",
        "\n",
        "textdata = textdata_df['cleaned_Comments'].tolist()\n",
        "\n",
        "vectorizer = TfidfVectorizer(stop_words='english')  \n",
        "X = vectorizer.fit_transform(textdata) \n",
        "\n",
        "Yresult = textdata_df['Topic'].tolist( ) \n",
        "Y = [] \n",
        "for y in Yresult: \n",
        "  if y == 'Biology': \n",
        "    Y.append(-1)\n",
        "  if y == 'Physics': \n",
        "    Y.append(0)\n",
        "  if y == 'Chemistry':\n",
        "    Y.append(1)"
      ],
      "metadata": {
        "id": "V3iTTsJd7iKW"
      },
      "execution_count": 34,
      "outputs": []
    },
    {
      "cell_type": "code",
      "source": [
        "# RandomForestClassifier, two parameters are important to look at: \n",
        "# max_depth and n_estimators \n",
        "\n",
        "# to split the data set into three groups, training, validation and test \n",
        "X_train, X_test, y_train, y_test = train_test_split(X, Y, test_size=0.2, random_state=0) \n",
        "\n",
        "X_train, X_valid, y_train, y_valid = train_test_split(X_train, y_train, test_size=0.2, random_state=0) "
      ],
      "metadata": {
        "id": "oEU0Huy0AL-6"
      },
      "execution_count": 37,
      "outputs": []
    },
    {
      "cell_type": "code",
      "source": [
        "# testet \n",
        "clf = RandomForestClassifier(n_estimators=300, criterion = 'entropy', random_state = 3, max_depth= 1000)\n",
        "clf.fit(X_train, y_train)"
      ],
      "metadata": {
        "colab": {
          "base_uri": "https://localhost:8080/"
        },
        "id": "2ZOq5TggCeUp",
        "outputId": "a2be51f0-8cc7-463b-aea5-80deaa13668e"
      },
      "execution_count": 57,
      "outputs": [
        {
          "output_type": "execute_result",
          "data": {
            "text/plain": [
              "RandomForestClassifier(criterion='entropy', max_depth=1000, n_estimators=300,\n",
              "                       random_state=3)"
            ]
          },
          "metadata": {},
          "execution_count": 57
        }
      ]
    },
    {
      "cell_type": "code",
      "source": [
        "class optimisation: \n",
        "  def __init__(self, X_train, X_valid, y_train, y_valid, X_test, y_test): \n",
        "    # to optimise n_estimators and max_depth \n",
        "    self.X_train = X_train\n",
        "    self.X_valid = X_valid\n",
        "    self.X_test = X_test\n",
        "\n",
        "    self.y_train = y_train\n",
        "    self.y_valid = y_valid\n",
        "    self.y_test = y_test \n",
        "\n",
        "  def optimise_max_depth(self): \n",
        "    # to generate a list of values \n",
        "    D = [x*x for x in range(1, 35)]\n",
        "    train_accuracy = [ ]\n",
        "    validation_accuracy = [ ] \n",
        "    for d in D:\n",
        "      clf = RandomForestClassifier(n_estimators=300, criterion = 'entropy', random_state = 3, max_depth= d)\n",
        "      # training model \n",
        "      clf.fit(self.X_train, self.y_train)\n",
        "\n",
        "      # training data \n",
        "      training_precit = clf.predict(self.X_train)\n",
        "\n",
        "      # to calcuate the classification accuracies of the training data \n",
        "      train_accuracy.append( accuracy_score(self.y_train, training_precit)) \n",
        "\n",
        "      # to calculate the classification accuracies of the validation data\n",
        "      validation_predict = clf.predict(self.X_valid) \n",
        "\n",
        "      validation_accuracy.append(accuracy_score(self.y_valid, validation_predict)) \n",
        "    plt.figure(figsize=(10, 10))\n",
        "    plt.plot(D, train_accuracy, color = 'maroon', linewidth=3, label='training data') \n",
        "    plt.plot(D, validation_accuracy, color = 'indigo', linewidth=3, label='validation data') \n",
        "    plt.legend(loc='upper left') \n",
        "    plt.xlabel('max depth')\n",
        "    plt.ylabel('Estimated accuracies') \n",
        "    plt.grid() \n",
        "\n",
        "  def optimise_estimator(self): \n",
        "    E = [1, 5, 10, 50, 100, 500, 1000]\n",
        "    train_accuracy = [ ]\n",
        "    validation_accuracy = [ ] \n",
        "    for e in E:\n",
        "      clf = RandomForestClassifier(n_estimators=e, criterion = 'entropy', random_state = 3, max_depth= 961)\n",
        "      # training model \n",
        "      clf.fit(self.X_train, self.y_train)\n",
        "\n",
        "      # training data \n",
        "      training_precit = clf.predict(self.X_train)\n",
        "\n",
        "      # to calcuate the classification accuracies of the training data \n",
        "      train_accuracy.append( accuracy_score(self.y_train, training_precit)) \n",
        "\n",
        "      # to calculate the classification accuracies of the validation data\n",
        "      validation_predict = clf.predict(self.X_valid) \n",
        "\n",
        "      validation_accuracy.append(accuracy_score(self.y_valid, validation_predict)) \n",
        "    plt.figure(figsize=(10, 10))\n",
        "    plt.plot(E, train_accuracy, color = 'maroon', linewidth=3, label='training data') \n",
        "    plt.plot(E, validation_accuracy, color = 'indigo', linewidth=3, label='validation data') \n",
        "    plt.legend(loc='upper left') \n",
        "    plt.xlabel('n_estimator')\n",
        "    plt.ylabel('Estimated accuracies') \n",
        "    plt.grid() \n",
        "\n",
        "  \n",
        "    \n"
      ],
      "metadata": {
        "id": "t76CBa-XP1KX"
      },
      "execution_count": 72,
      "outputs": []
    },
    {
      "cell_type": "code",
      "source": [
        "modeloptimal = optimisation(X_train, X_valid, y_train, y_valid, X_test, y_test)\n",
        "\n",
        "modeloptimal.optimise_max_depth()"
      ],
      "metadata": {
        "colab": {
          "base_uri": "https://localhost:8080/",
          "height": 606
        },
        "id": "8w1DpB8WPmOy",
        "outputId": "84fbad6e-6db5-4779-aabd-345a99427fbb"
      },
      "execution_count": 69,
      "outputs": [
        {
          "output_type": "display_data",
          "data": {
            "text/plain": [
              "<Figure size 720x720 with 1 Axes>"
            ],
            "image/png": "[encoded data removed]"
          },
          "metadata": {
            "needs_background": "light"
          }
        }
      ]
    },
    {
      "cell_type": "code",
      "source": [
        "modeloptimal = optimisation(X_train, X_valid, y_train, y_valid, X_test, y_test)\n",
        "modeloptimal.optimise_estimator( )"
      ],
      "metadata": {
        "colab": {
          "base_uri": "https://localhost:8080/",
          "height": 606
        },
        "id": "p0qE8IIestMA",
        "outputId": "f94250a4-ad6c-4dc3-aa7f-da9e29c3fcba"
      },
      "execution_count": 73,
      "outputs": [
        {
          "output_type": "display_data",
          "data": {
            "text/plain": [
              "<Figure size 720x720 with 1 Axes>"
            ],
            "image/png": "[encoded data removed]"
          },
          "metadata": {
            "needs_background": "light"
          }
        }
      ]
    },
    {
      "cell_type": "code",
      "source": [
        "y_valid_pred = clf.predict(X_valid)\n",
        "\n",
        "print(accuracy_score(y_valid, y_valid_pred))"
      ],
      "metadata": {
        "colab": {
          "base_uri": "https://localhost:8080/"
        },
        "id": "Mav8IlJkG1hE",
        "outputId": "c744cd7e-db03-4969-b739-04e7276069f8"
      },
      "execution_count": 58,
      "outputs": [
        {
          "output_type": "stream",
          "name": "stdout",
          "text": [
            "0.6914110429447853\n"
          ]
        }
      ]
    },
    {
      "cell_type": "code",
      "source": [
        "class optimisation: \n",
        "  def __init__(self, inputdataframe): \n",
        "    self.inputdf = inputdataframe.dropna(how=\"any\") \n",
        "    self.textdata = inputdataframe['cleaned_Comments'].tolist()\n",
        "    self.topics = inputdataframe['Topic'].tolist( )  \n",
        "\n",
        "  def splitdata(self, e, d): \n",
        "    X = self.textdata\n",
        "    Y = [ ]\n",
        "    for y in self.topics: \n",
        "      if y == 'Biology': \n",
        "        Y.append(-1)\n",
        "      if y == 'Physics': \n",
        "        Y.append(0)\n",
        "      if y == 'Chemistry':\n",
        "        Y.append(1) \n",
        "\n",
        "    # to split data into three different chunks \n",
        "    # to split the data set into three groups, training, validation and test \n",
        "    X_train, X_test, y_train, y_test = train_test_split(X, Y, test_size=0.2, random_state=3) \n",
        "\n",
        "    X_train, X_valid, y_train, y_valid = train_test_split(X_train, y_train, test_size=0.2, random_state=2) \n",
        "\n",
        "    pipe = Pipeline([('tfidf', TfidfVectorizer(stop_words='english') ), ('randomforest', RandomForestClassifier(n_estimators=e, criterion = 'entropy', random_state = 3, max_depth= d))]) \n",
        "\n",
        "    pipe.fit(X_train, y_train) \n",
        "    test_score = pipe.predict(X_test)  \n",
        "\n",
        "    test_accessment = classification_report(y_test, test_score)\n",
        "    print(test_accessment) \n",
        "\n",
        "    # to learn which  blog posts the training model failed to predict correctly \n",
        "    L = len(X_test)\n",
        "\n",
        "    # to create an empty list to store the wrongly predicted text data \n",
        "    wrongly_predicted_textdata = []\n",
        "    wrongly_predicted_dict = { }\n",
        "    for i in range(L): \n",
        "      temp1 = test_score[i]\n",
        "      temp2 = y_test[i]\n",
        "      if temp1 != temp2: \n",
        "        wrongly_predicted_textdata.append([X_test[i], temp1, temp2] ) \n",
        "        newlist = (temp1, temp2) \n",
        "        if newlist not in wrongly_predicted_dict:\n",
        "          wrongly_predicted_dict[newlist] = 1\n",
        "        else: \n",
        "          wrongly_predicted_dict[newlist] += 1\n",
        "\n",
        "    return wrongly_predicted_dict, test_accessment \n",
        "\n"
      ],
      "metadata": {
        "id": "wSwKpqJ3MKGK"
      },
      "execution_count": 78,
      "outputs": []
    },
    {
      "cell_type": "code",
      "source": [
        "model2 = optimisation(textdata_df)\n",
        "\n",
        "dict_wrongly, test_accessment = model2.splitdata(e=400, d = 960)"
      ],
      "metadata": {
        "colab": {
          "base_uri": "https://localhost:8080/"
        },
        "id": "1mLLJ2pguvQi",
        "outputId": "7f80fc1e-4f5a-4dba-f8bb-57272698d8ec"
      },
      "execution_count": 79,
      "outputs": [
        {
          "output_type": "stream",
          "name": "stdout",
          "text": [
            "              precision    recall  f1-score   support\n",
            "\n",
            "          -1       0.71      0.75      0.73       864\n",
            "           0       0.77      0.57      0.66       500\n",
            "           1       0.61      0.69      0.65       673\n",
            "\n",
            "    accuracy                           0.69      2037\n",
            "   macro avg       0.70      0.67      0.68      2037\n",
            "weighted avg       0.69      0.69      0.68      2037\n",
            "\n"
          ]
        }
      ]
    },
    {
      "cell_type": "code",
      "source": [
        "dict_wrongly"
      ],
      "metadata": {
        "colab": {
          "base_uri": "https://localhost:8080/"
        },
        "id": "9uaGw7qCOj1R",
        "outputId": "35ff0990-a268-4edf-fd6c-4eec825ec497"
      },
      "execution_count": 80,
      "outputs": [
        {
          "output_type": "execute_result",
          "data": {
            "text/plain": [
              "{(-1, 0): 101,\n",
              " (-1, 1): 160,\n",
              " (0, -1): 38,\n",
              " (0, 1): 49,\n",
              " (1, -1): 181,\n",
              " (1, 0): 112}"
            ]
          },
          "metadata": {},
          "execution_count": 80
        }
      ]
    }
  ]
}